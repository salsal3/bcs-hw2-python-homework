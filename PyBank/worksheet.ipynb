{
 "metadata": {
  "language_info": {
   "codemirror_mode": {
    "name": "ipython",
    "version": 3
   },
   "file_extension": ".py",
   "mimetype": "text/x-python",
   "name": "python",
   "nbconvert_exporter": "python",
   "pygments_lexer": "ipython3",
   "version": "3.7.10"
  },
  "orig_nbformat": 2,
  "kernelspec": {
   "name": "python3710jvsc74a57bd01a0899f06769b80fbd6e3e60a51404fab10da52191a78f6e478489f228670f09",
   "display_name": "Python 3.7.10 64-bit ('dev': conda)"
  }
 },
 "nbformat": 4,
 "nbformat_minor": 2,
 "cells": [
  {
   "source": [
    "Create a Python script that analyzes the records to calculate each of the following:\n",
    "\n",
    "- The total number of months included in the dataset.\n",
    "- The net total amount of P/L over the entire period.\n",
    "- The average of the changes in P/L over the entire period.\n",
    "- The greatest increase in profits (date and amount) over the entire period.\n",
    "- The greatest decrease in losses (date and amount) over the entire period.\n",
    "\n",
    "Your resulting analysis should look similar to the following:\n",
    "\n",
    "```\n",
    "Financial Analysis\n",
    "----------------------------\n",
    "Total Months: 86\n",
    "Total: $38382578\n",
    "Average  Change: $-2315.12\n",
    "Greatest Increase in Profits: Feb-2012 ($1926159)\n",
    "Greatest Decrease in Profits: Sep-2013 ($-2196167)\n",
    "```\n",
    "\n",
    "*Test code saved as 'worksheet.ipynb'*"
   ],
   "cell_type": "markdown",
   "metadata": {}
  },
  {
   "cell_type": "code",
   "execution_count": 29,
   "metadata": {},
   "outputs": [
    {
     "output_type": "stream",
     "name": "stdout",
     "text": [
      "       Date  Profit/Losses\n0  Jan-2010         867884\n1  Feb-2010         984655\n2  Mar-2010         322013\n3  Apr-2010         -69417\n4  May-2010         310503\n\n        Date  Profit/Losses\n81  Oct-2016         102685\n82  Nov-2016         795914\n83  Dec-2016          60988\n84  Jan-2017         138230\n85  Feb-2017         671099\n\n"
     ]
    },
    {
     "output_type": "execute_result",
     "data": {
      "text/plain": [
       "       Profit/Losses\n",
       "count   8.600000e+01\n",
       "mean    4.463090e+05\n",
       "std     5.363579e+05\n",
       "min    -1.196225e+06\n",
       "25%     1.821620e+05\n",
       "50%     5.703280e+05\n",
       "75%     7.952262e+05\n",
       "max     1.170593e+06"
      ],
      "text/html": "<div>\n<style scoped>\n    .dataframe tbody tr th:only-of-type {\n        vertical-align: middle;\n    }\n\n    .dataframe tbody tr th {\n        vertical-align: top;\n    }\n\n    .dataframe thead th {\n        text-align: right;\n    }\n</style>\n<table border=\"1\" class=\"dataframe\">\n  <thead>\n    <tr style=\"text-align: right;\">\n      <th></th>\n      <th>Profit/Losses</th>\n    </tr>\n  </thead>\n  <tbody>\n    <tr>\n      <th>count</th>\n      <td>8.600000e+01</td>\n    </tr>\n    <tr>\n      <th>mean</th>\n      <td>4.463090e+05</td>\n    </tr>\n    <tr>\n      <th>std</th>\n      <td>5.363579e+05</td>\n    </tr>\n    <tr>\n      <th>min</th>\n      <td>-1.196225e+06</td>\n    </tr>\n    <tr>\n      <th>25%</th>\n      <td>1.821620e+05</td>\n    </tr>\n    <tr>\n      <th>50%</th>\n      <td>5.703280e+05</td>\n    </tr>\n    <tr>\n      <th>75%</th>\n      <td>7.952262e+05</td>\n    </tr>\n    <tr>\n      <th>max</th>\n      <td>1.170593e+06</td>\n    </tr>\n  </tbody>\n</table>\n</div>"
     },
     "metadata": {},
     "execution_count": 29
    }
   ],
   "source": [
    "# Initial setup\n",
    "# Import pandas and pathlib\n",
    "import pandas as pd\n",
    "import numpy as np\n",
    "from pathlib import Path\n",
    "\n",
    "# Set path\n",
    "csvPath = Path(\"G:/Users/Saru/Desktop/Bootcamp/bcs_assignments/homework/python-homework/PyBank/Resources/budget_data.csv\")\n",
    "budgetDF = pd.read_csv(csvPath)\n",
    "\n",
    "# Verify data from csv file [.describe, .head, .tail, .count, .shape]\n",
    "print(budgetDF.head())\n",
    "print()\n",
    "print(budgetDF.tail())\n",
    "print()\n",
    "budgetDF.describe()"
   ]
  },
  {
   "cell_type": "code",
   "execution_count": 30,
   "metadata": {},
   "outputs": [
    {
     "output_type": "stream",
     "name": "stdout",
     "text": [
      "0     Jan-2010\n1     Feb-2010\n2     Mar-2010\n3     Apr-2010\n4     May-2010\n        ...   \n81    Oct-2016\n82    Nov-2016\n83    Dec-2016\n84    Jan-2017\n85    Feb-2017\nName: Date, Length: 86, dtype: object\n"
     ]
    },
    {
     "output_type": "execute_result",
     "data": {
      "text/plain": [
       "0    867884\n",
       "1    984655\n",
       "2    322013\n",
       "3    -69417\n",
       "4    310503\n",
       "Name: Profit/Losses, dtype: int64"
      ]
     },
     "metadata": {},
     "execution_count": 30
    }
   ],
   "source": [
    "# Set variables for Date and P/L columns\n",
    "budgetDate = budgetDF['Date']\n",
    "budgetPnl = budgetDF['Profit/Losses']\n",
    "## Alternatives:\n",
    "#'Date' column, index 0: budgetDF.iloc[:,0]\n",
    "#'Profit/Losses' column, index 1: budgetDF.iloc[:,1]\n",
    "\n",
    "# Display info with print() or .head()\n",
    "print(budgetDate)\n",
    "budgetPnl.head()"
   ]
  },
  {
   "cell_type": "code",
   "execution_count": 31,
   "metadata": {},
   "outputs": [
    {
     "output_type": "execute_result",
     "data": {
      "text/plain": [
       "86"
      ]
     },
     "metadata": {},
     "execution_count": 31
    }
   ],
   "source": [
    "# Set variable for total number of months and print\n",
    "totalMonths = len(budgetDate)\n",
    "## Alternatives:\n",
    "#totalMonths = budgetDate.count()\n",
    "#totalMonths = len(budgetDF.iloc[:, 0])\n",
    "\n",
    "totalMonths"
   ]
  },
  {
   "cell_type": "code",
   "execution_count": 32,
   "metadata": {},
   "outputs": [
    {
     "output_type": "execute_result",
     "data": {
      "text/plain": [
       "38382578"
      ]
     },
     "metadata": {},
     "execution_count": 32
    }
   ],
   "source": [
    "# Set variable for net P&L total\n",
    "pnlNet = sum(budgetPnl)\n",
    "# Alternatives:\n",
    "#pnlNet = budgetPnl.sum()\n",
    "#pnlNet = sum(budgetDF.iloc[:,1])\n",
    "\n",
    "pnlNet"
   ]
  },
  {
   "cell_type": "code",
   "execution_count": 33,
   "metadata": {},
   "outputs": [
    {
     "output_type": "stream",
     "name": "stdout",
     "text": [
      "Index(['Date', 'Profit/Losses', 'M/M Change'], dtype='object')\n------------------\n       Date  Profit/Losses  M/M Change\n0  Jan-2010         867884           0\n1  Feb-2010         984655           0\n2  Mar-2010         322013           0\n3  Apr-2010         -69417           0\n4  May-2010         310503           0\n------------------\n0          NaN\n1     116771.0\n2    -662642.0\n3    -391430.0\n4     379920.0\n        ...   \n81   -665765.0\n82    693229.0\n83   -734926.0\n84     77242.0\n85    532869.0\nName: Profit/Losses, Length: 86, dtype: float64\n------------------\n        Date  Profit/Losses  M/M Change\n0   Jan-2010         867884         NaN\n1   Feb-2010         984655    116771.0\n2   Mar-2010         322013   -662642.0\n3   Apr-2010         -69417   -391430.0\n4   May-2010         310503    379920.0\n..       ...            ...         ...\n81  Oct-2016         102685   -665765.0\n82  Nov-2016         795914    693229.0\n83  Dec-2016          60988   -734926.0\n84  Jan-2017         138230     77242.0\n85  Feb-2017         671099    532869.0\n\n[86 rows x 3 columns]\n"
     ]
    }
   ],
   "source": [
    "# Create column for month-to-month change in P/L\n",
    "budgetDF['M/M Change'] = 0\n",
    "budgetMomo = budgetDF['M/M Change']\n",
    "# Print column headers and head()\n",
    "print(budgetDF.columns)\n",
    "print('------------------')\n",
    "print(budgetDF.head())\n",
    "print('------------------')\n",
    "\n",
    "# Calculate month-to-month change\n",
    "#budgetMomo = budgetPnl.rolling(2).sum()\n",
    "budgetMomo = budgetPnl.diff()\n",
    "budgetDF['M/M Change'] = budgetMomo\n",
    "# Print budgetMomo and budgetDF\n",
    "print(budgetMomo)\n",
    "print('------------------')\n",
    "print(budgetDF)"
   ]
  },
  {
   "cell_type": "code",
   "execution_count": 34,
   "metadata": {},
   "outputs": [
    {
     "output_type": "stream",
     "name": "stdout",
     "text": [
      "-2315.12\n",
      "1926159\n",
      "Feb-2012\n",
      "-2196167\n",
      "Sep-2013\n"
     ]
    }
   ],
   "source": [
    "# Month-to-month changes: average, high, low, and associated dates\n",
    "momoAvg = round(budgetMomo.mean(),2)\n",
    "momoHigh = int(budgetMomo.max())\n",
    "dateMomoHigh = budgetDF.loc[budgetDF['M/M Change'] == momoHigh, 'Date'].iloc[0]\n",
    "momoLow = int(budgetMomo.min())\n",
    "dateMomoLow = budgetDF.loc[budgetDF['M/M Change'] == momoLow, 'Date'].iloc[0]\n",
    "\n",
    "print(momoAvg)\n",
    "print(momoHigh)\n",
    "print(dateHigh)\n",
    "print(momoLow)\n",
    "print(dateLow)\n",
    "\n",
    "#print(f\"Average: ${int(budgetMomo.mean()):,}\")\n",
    "#print(f\"Highest: ${int(budgetMomo.max()):,}\")\n",
    "#print(f\"Lowest: ${int(budgetMomo.min()):,}\")"
   ]
  },
  {
   "source": [
    "```\n",
    "Test code\n",
    "\n",
    "\\# Average month-to-month change in P/L\n",
    "\\# Initialize variables\n",
    "count = 0\n",
    "total = 0\n",
    "change = 0\n",
    "average = 0\n",
    "min = 0\n",
    "max = 0\n",
    "\n",
    "\\# Append column \"change\" to df, along with value\n",
    "\n",
    "\\# Create variable and calculate the average of the month-to-month changes\n",
    "pnlAvgChange = budgetPnl.mean()\n",
    "\n",
    "\\# Print the average change\n",
    "print(f\"pnlAvgChange: {pnlAvgChange:,}\")\n",
    "\n",
    "average = 0\n",
    "total = 0\n",
    "count = 0\n",
    "min = 0\n",
    "max = 0\n",
    "\n",
    "for change in budgetPnl:\n",
    "    total += change\n",
    "    count += 1\n",
    "\n",
    "    if min == 0:\n",
    "        min = change\n",
    "    elif change < min:\n",
    "        min = change\n",
    "    elif change > max:\n",
    "        max = change\n",
    "\n",
    "average = round(total / count, 2)\n",
    "print(f\"Total: {total}\")\n",
    "print(f\"Count: {count}\")\n",
    "print(f\"Min: {min}\")\n",
    "print(f\"Max: {max}\")\n",
    "print(f\"Average: {average}\")"
   ],
   "cell_type": "markdown",
   "metadata": {}
  },
  {
   "source": [
    "```\n",
    "Test code\n",
    "pnl = iter(budgetPnl)\n",
    "totalMonths = 0\n",
    "totalNet = 0\n",
    "monthOfChange = []\n",
    "netChangeList = []\n",
    "incAmt = [\"\",0]\n",
    "decAmt = [\"\",0]\n",
    "\n",
    "#budgetDF.groupby('Profit/Losses').sum()\n",
    "#np.sum(budgetPnl, axis=0)\n",
    "#monthOfChange\n",
    "\n",
    "#firstRow = next(pnl)\n",
    "#netChangeList = netChangeList + int(firstRow)\n",
    "#print(firstRow)\n",
    "\n",
    "#for 'M/M Change' in range(1,len(netChangeList)):\n",
    "#    netChangeLis.iloc['M/M Change'] = "
   ],
   "cell_type": "markdown",
   "metadata": {}
  },
  {
   "source": [
    "```\n",
    "# Greatest increase in profits (date & amount)\n",
    "#incDate\n",
    "#incAmt\n",
    "\n",
    "# Greatest decrease in losses (date & amount)\n",
    "#decDate\n",
    "#decAmt\n",
    "print(budgetDF[budgetDF['Date'] == 'Feb-2012'])"
   ],
   "cell_type": "markdown",
   "metadata": {}
  },
  {
   "cell_type": "code",
   "execution_count": 35,
   "metadata": {},
   "outputs": [
    {
     "output_type": "stream",
     "name": "stdout",
     "text": [
      "Financial Analysis\n",
      "----------------------------\n",
      "Total months: 86\n",
      "Net Total P/L: $38,382,578\n",
      "Average Change: $-2,315.12\n",
      "Greatest Increase in Profits: Feb-2012 $1,926,159\n",
      "Greatest decrease in Losses: Sep-2013 $-2,196,167\n"
     ]
    }
   ],
   "source": [
    "# Print the analysis in the terminal\n",
    "print(\"Financial Analysis\")\n",
    "print(\"----------------------------\")\n",
    "print(f\"Total months: {totalMonths}\")\n",
    "print(f\"Net Total P/L: ${pnlNet:,}\")\n",
    "\n",
    "#Average Change: $-2315.12\n",
    "print(f\"Average Change: ${momoAvg:,}\")\n",
    "\n",
    "#Greatest Increase in Profits: Feb-2012 ($1926159)\n",
    "print(f\"Greatest Increase in Profits: {dateMomoHigh} ${momoHigh:,}\")\n",
    "\n",
    "#Greatest Decrease in Losses: Sep-2013 ($-2196167)\n",
    "print(f\"Greatest decrease in Losses: {dateMomoLow} ${momoLow:,}\")"
   ]
  },
  {
   "cell_type": "code",
   "execution_count": 36,
   "metadata": {},
   "outputs": [],
   "source": [
    "# Export analysis to text file\n",
    "outputPath = 'budget_analysis.txt'\n",
    "with open(outputPath, 'w') as file:\n",
    "    file.write(f\"Financial Analysis\\n\")\n",
    "    file.write(f\"----------------------------\\n\")\n",
    "    file.write(f\"Total Months: 86\\n\")\n",
    "    file.write(f\"Total: $38,382,578\\n\")\n",
    "    file.write(f\"Average  Change: $-2,315.12\\n\")\n",
    "    file.write(f\"Greatest Increase in Profits: Feb-2012 ($1,926,159)\\n\")\n",
    "    file.write(f\"Greatest Decrease in Profits: Sep-2013 ($-2,196,167)\\n\")"
   ]
  },
  {
   "cell_type": "code",
   "execution_count": null,
   "metadata": {},
   "outputs": [],
   "source": []
  }
 ]
}