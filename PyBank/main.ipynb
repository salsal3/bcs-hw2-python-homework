{
 "metadata": {
  "language_info": {
   "codemirror_mode": {
    "name": "ipython",
    "version": 3
   },
   "file_extension": ".py",
   "mimetype": "text/x-python",
   "name": "python",
   "nbconvert_exporter": "python",
   "pygments_lexer": "ipython3",
   "version": "3.7.10"
  },
  "orig_nbformat": 2,
  "kernelspec": {
   "name": "python3710jvsc74a57bd01a0899f06769b80fbd6e3e60a51404fab10da52191a78f6e478489f228670f09",
   "display_name": "Python 3.7.10 64-bit ('dev': conda)"
  }
 },
 "nbformat": 4,
 "nbformat_minor": 2,
 "cells": [
  {
   "source": [
    "# \\*Still a WIP\\.. Sorry!*\n",
    "\n",
    "Create a Python script that analyzes the records to calculate each of the following:\n",
    "\n",
    "- The total number of months included in the dataset.\n",
    "- The net total amount of P/L over the entire period.\n",
    "- The average of the changes in P/L over the entire period.\n",
    "- The greatest increase in profits (date and amount) over the entire period.\n",
    "- The greatest decrease in losses (date and amount) over the entire period.\n",
    "\n",
    "Your resulting analysis should look similar to the following:\n",
    "\n",
    "```\n",
    "Financial Analysis\n",
    "----------------------------\n",
    "Total Months: 86\n",
    "Total: $38382578\n",
    "Average  Change: $-2315.12\n",
    "Greatest Increase in Profits: Feb-2012 ($1926159)\n",
    "Greatest Decrease in Profits: Sep-2013 ($-2196167)\n",
    "```"
   ],
   "cell_type": "markdown",
   "metadata": {}
  },
  {
   "cell_type": "code",
   "execution_count": 102,
   "metadata": {},
   "outputs": [
    {
     "output_type": "stream",
     "name": "stdout",
     "text": [
      "       Date  Profit/Losses\n0  Jan-2010         867884\n1  Feb-2010         984655\n2  Mar-2010         322013\n3  Apr-2010         -69417\n4  May-2010         310503\n\n        Date  Profit/Losses\n81  Oct-2016         102685\n82  Nov-2016         795914\n83  Dec-2016          60988\n84  Jan-2017         138230\n85  Feb-2017         671099\n\n"
     ]
    },
    {
     "output_type": "execute_result",
     "data": {
      "text/plain": [
       "       Profit/Losses\n",
       "count   8.600000e+01\n",
       "mean    4.463090e+05\n",
       "std     5.363579e+05\n",
       "min    -1.196225e+06\n",
       "25%     1.821620e+05\n",
       "50%     5.703280e+05\n",
       "75%     7.952262e+05\n",
       "max     1.170593e+06"
      ],
      "text/html": "<div>\n<style scoped>\n    .dataframe tbody tr th:only-of-type {\n        vertical-align: middle;\n    }\n\n    .dataframe tbody tr th {\n        vertical-align: top;\n    }\n\n    .dataframe thead th {\n        text-align: right;\n    }\n</style>\n<table border=\"1\" class=\"dataframe\">\n  <thead>\n    <tr style=\"text-align: right;\">\n      <th></th>\n      <th>Profit/Losses</th>\n    </tr>\n  </thead>\n  <tbody>\n    <tr>\n      <th>count</th>\n      <td>8.600000e+01</td>\n    </tr>\n    <tr>\n      <th>mean</th>\n      <td>4.463090e+05</td>\n    </tr>\n    <tr>\n      <th>std</th>\n      <td>5.363579e+05</td>\n    </tr>\n    <tr>\n      <th>min</th>\n      <td>-1.196225e+06</td>\n    </tr>\n    <tr>\n      <th>25%</th>\n      <td>1.821620e+05</td>\n    </tr>\n    <tr>\n      <th>50%</th>\n      <td>5.703280e+05</td>\n    </tr>\n    <tr>\n      <th>75%</th>\n      <td>7.952262e+05</td>\n    </tr>\n    <tr>\n      <th>max</th>\n      <td>1.170593e+06</td>\n    </tr>\n  </tbody>\n</table>\n</div>"
     },
     "metadata": {},
     "execution_count": 102
    }
   ],
   "source": [
    "# Initial setup\n",
    "# Import pandas and pathlib\n",
    "import pandas as pd\n",
    "import numpy as np\n",
    "from pathlib import Path\n",
    "\n",
    "# Set path\n",
    "csvPath = Path(\"G:/Users/Saru/Desktop/Bootcamp/bcs_assignments/homework/python-homework/PyBank/Resources/budget_data.csv\")\n",
    "budgetDF = pd.read_csv(csvPath)\n",
    "\n",
    "# Verify data from csv file [.describe, .head, .tail, .count, .shape]\n",
    "print(budgetDF.head())\n",
    "print()\n",
    "print(budgetDF.tail())\n",
    "print()\n",
    "budgetDF.describe()"
   ]
  },
  {
   "cell_type": "code",
   "execution_count": 103,
   "metadata": {},
   "outputs": [
    {
     "output_type": "stream",
     "name": "stdout",
     "text": [
      "0     Jan-2010\n1     Feb-2010\n2     Mar-2010\n3     Apr-2010\n4     May-2010\n        ...   \n81    Oct-2016\n82    Nov-2016\n83    Dec-2016\n84    Jan-2017\n85    Feb-2017\nName: Date, Length: 86, dtype: object\n"
     ]
    },
    {
     "output_type": "execute_result",
     "data": {
      "text/plain": [
       "0    867884\n",
       "1    984655\n",
       "2    322013\n",
       "3    -69417\n",
       "4    310503\n",
       "Name: Profit/Losses, dtype: int64"
      ]
     },
     "metadata": {},
     "execution_count": 103
    }
   ],
   "source": [
    "# Set variables for Date and P/L columns\n",
    "budgetDate = budgetDF['Date']\n",
    "budgetPnl = budgetDF['Profit/Losses']\n",
    "## Alternatives:\n",
    "#'Date' column, index 0: budgetDF.iloc[:,0]\n",
    "#'Profit/Losses' column, index 1: budgetDF.iloc[:,1]\n",
    "\n",
    "# Display info with print() or .head()\n",
    "print(budgetDate)\n",
    "budgetPnl.head()"
   ]
  },
  {
   "cell_type": "code",
   "execution_count": 104,
   "metadata": {},
   "outputs": [
    {
     "output_type": "execute_result",
     "data": {
      "text/plain": [
       "86"
      ]
     },
     "metadata": {},
     "execution_count": 104
    }
   ],
   "source": [
    "# Set variable for total number of months and print\n",
    "totalMonths = len(budgetDate)\n",
    "## Alternatives:\n",
    "#totalMonths = budgetDate.count()\n",
    "#totalMonths = len(budgetDF.iloc[:, 0])\n",
    "\n",
    "totalMonths"
   ]
  },
  {
   "cell_type": "code",
   "execution_count": 105,
   "metadata": {},
   "outputs": [
    {
     "output_type": "execute_result",
     "data": {
      "text/plain": [
       "38382578"
      ]
     },
     "metadata": {},
     "execution_count": 105
    }
   ],
   "source": [
    "# Set variable for net P&L total\n",
    "pnlNet = sum(budgetPnl)\n",
    "# Alternatives:\n",
    "#pnlNet = budgetPnl.sum()\n",
    "#pnlNet = sum(budgetDF.iloc[:,1])\n",
    "\n",
    "pnlNet"
   ]
  },
  {
   "cell_type": "code",
   "execution_count": 210,
   "metadata": {},
   "outputs": [
    {
     "output_type": "stream",
     "name": "stdout",
     "text": [
      "Index(['Date', 'Profit/Losses', 'M/M Change'], dtype='object')\n------------------\n       Date  Profit/Losses  M/M Change\n0  Jan-2010         867884           0\n1  Feb-2010         984655           0\n2  Mar-2010         322013           0\n3  Apr-2010         -69417           0\n4  May-2010         310503           0\n------------------\n0           NaN\n1     1852539.0\n2     1306668.0\n3      252596.0\n4      241086.0\n        ...    \n81     871135.0\n82     898599.0\n83     856902.0\n84     199218.0\n85     809329.0\nName: Profit/Losses, Length: 86, dtype: float64\n------------------\n        Date  Profit/Losses  M/M Change\n0   Jan-2010         867884         NaN\n1   Feb-2010         984655   1852539.0\n2   Mar-2010         322013   1306668.0\n3   Apr-2010         -69417    252596.0\n4   May-2010         310503    241086.0\n..       ...            ...         ...\n81  Oct-2016         102685    871135.0\n82  Nov-2016         795914    898599.0\n83  Dec-2016          60988    856902.0\n84  Jan-2017         138230    199218.0\n85  Feb-2017         671099    809329.0\n\n[86 rows x 3 columns]\n"
     ]
    }
   ],
   "source": [
    "# Create column for month-to-month change in P/L\n",
    "budgetDF['M/M Change'] = 0\n",
    "budgetMomo = budgetDF['M/M Change']\n",
    "# Print column headers and head()\n",
    "print(budgetDF.columns)\n",
    "print('------------------')\n",
    "print(budgetDF.head())\n",
    "print('------------------')\n",
    "\n",
    "# Calculate month-to-month change\n",
    "#budgetMomo = budgetPnl.rolling(2).sum()\n",
    "budgetDF['M/M Change'] = budgetMomo\n",
    "# Print budgetMomo and budgetDF\n",
    "print(budgetMomo)\n",
    "print('------------------')\n",
    "print(budgetDF)"
   ]
  },
  {
   "cell_type": "code",
   "execution_count": 125,
   "metadata": {},
   "outputs": [
    {
     "output_type": "execute_result",
     "data": {
      "text/plain": [
       "0         NaN\n",
       "1    926269.5\n",
       "2    653334.0\n",
       "3    126298.0\n",
       "4    120543.0\n",
       "Name: M/M Change, dtype: float64"
      ]
     },
     "metadata": {},
     "execution_count": 125
    }
   ],
   "source": []
  },
  {
   "cell_type": "code",
   "execution_count": 107,
   "metadata": {},
   "outputs": [
    {
     "output_type": "stream",
     "name": "stdout",
     "text": [
      "pnlAvgChange: 446,309.0465116279\nTotal: 38382578\nCount: 86\nMin: -1196225\nMax: 1170593\nAverage: 446309.05\n"
     ]
    }
   ],
   "source": [
    "# Average month-to-month change in P/L\n",
    "# Initialize variables\n",
    "count = 0\n",
    "total = 0\n",
    "change = 0\n",
    "average = 0\n",
    "min = 0\n",
    "max = 0\n",
    "\n",
    "# Append column \"change\" to df, along with value\n",
    "\n",
    "# Create variable and calculate the average of the month-to-month changes\n",
    "pnlAvgChange = budgetPnl.mean()\n",
    "\n",
    "# Print the average change\n",
    "print(f\"pnlAvgChange: {pnlAvgChange:,}\")\n",
    "\n",
    "average = 0\n",
    "total = 0\n",
    "count = 0\n",
    "min = 0\n",
    "max = 0\n",
    "\n",
    "for change in budgetPnl:\n",
    "    total += change\n",
    "    count += 1\n",
    "\n",
    "    if min == 0:\n",
    "        min = change\n",
    "    elif change < min:\n",
    "        min = change\n",
    "    elif change > max:\n",
    "        max = change\n",
    "\n",
    "average = round(total / count, 2)\n",
    "print(f\"Total: {total}\")\n",
    "print(f\"Count: {count}\")\n",
    "print(f\"Min: {min}\")\n",
    "print(f\"Max: {max}\")\n",
    "print(f\"Average: {average}\")"
   ]
  },
  {
   "cell_type": "code",
   "execution_count": 123,
   "metadata": {},
   "outputs": [
    {
     "output_type": "stream",
     "name": "stdout",
     "text": [
      "0          NaN\n1     926269.5\n2     653334.0\n3     126298.0\n4     120543.0\n        ...   \n81    435567.5\n82    449299.5\n83    428451.0\n84     99609.0\n85    404664.5\nName: M/M Change, Length: 86, dtype: float64\n"
     ]
    }
   ],
   "source": [
    "pnl = iter(budgetPnl)\n",
    "totalMonths = 0\n",
    "totalNet = 0\n",
    "monthOfChange = []\n",
    "netChangeList = []\n",
    "incAmt = [\"\",0]\n",
    "decAmt = [\"\",0]\n",
    "\n",
    "#budgetDF.groupby('Profit/Losses').sum()\n",
    "#np.sum(budgetPnl, axis=0)\n",
    "#monthOfChange\n",
    "\n",
    "#firstRow = next(pnl)\n",
    "#netChangeList = netChangeList + int(firstRow)\n",
    "#print(firstRow)\n",
    "\n",
    "#for 'M/M Change' in range(1,len(netChangeList)):\n",
    "#    netChangeLis.iloc['M/M Change'] = "
   ]
  },
  {
   "cell_type": "code",
   "execution_count": 109,
   "metadata": {},
   "outputs": [
    {
     "output_type": "error",
     "ename": "NameError",
     "evalue": "name 'incDate' is not defined",
     "traceback": [
      "\u001b[1;31m---------------------------------------------------------------------------\u001b[0m",
      "\u001b[1;31mNameError\u001b[0m                                 Traceback (most recent call last)",
      "\u001b[1;32m<ipython-input-109-ba04f9e1b4a7>\u001b[0m in \u001b[0;36m<module>\u001b[1;34m\u001b[0m\n\u001b[0;32m      1\u001b[0m \u001b[1;31m# Greatest increase in profits (date & amount)\u001b[0m\u001b[1;33m\u001b[0m\u001b[1;33m\u001b[0m\u001b[1;33m\u001b[0m\u001b[0m\n\u001b[1;32m----> 2\u001b[1;33m \u001b[0mincDate\u001b[0m\u001b[1;33m\u001b[0m\u001b[1;33m\u001b[0m\u001b[0m\n\u001b[0m\u001b[0;32m      3\u001b[0m \u001b[0mincAmt\u001b[0m\u001b[1;33m\u001b[0m\u001b[1;33m\u001b[0m\u001b[0m\n",
      "\u001b[1;31mNameError\u001b[0m: name 'incDate' is not defined"
     ]
    }
   ],
   "source": [
    "# Greatest increase in profits (date & amount)\n",
    "incDate\n",
    "incAmt"
   ]
  },
  {
   "cell_type": "code",
   "execution_count": 162,
   "metadata": {},
   "outputs": [
    {
     "output_type": "error",
     "ename": "SyntaxError",
     "evalue": "invalid syntax (<ipython-input-162-9f7a02698a31>, line 2)",
     "traceback": [
      "\u001b[1;36m  File \u001b[1;32m\"<ipython-input-162-9f7a02698a31>\"\u001b[1;36m, line \u001b[1;32m2\u001b[0m\n\u001b[1;33m    bestDecreaseDate =\u001b[0m\n\u001b[1;37m                       ^\u001b[0m\n\u001b[1;31mSyntaxError\u001b[0m\u001b[1;31m:\u001b[0m invalid syntax\n"
     ]
    }
   ],
   "source": [
    "# Greatest decrease in losses (date & amount)\n",
    "min\n",
    "decDate\n",
    "decAmt"
   ]
  },
  {
   "cell_type": "code",
   "execution_count": 19,
   "metadata": {},
   "outputs": [
    {
     "output_type": "stream",
     "name": "stdout",
     "text": [
      "Financial Analysis\n----------------------------\nTotal months: 86\nNet Total P/L: $38,382,578\n"
     ]
    }
   ],
   "source": [
    "# Print the analysis in the terminal\n",
    "print(\"Financial Analysis\")\n",
    "print(\"----------------------------\")\n",
    "print(f\"Total months: {totalMonths}\")\n",
    "print(f\"Net Total P/L: ${pnlNet:,}\")\n",
    "#Average Change: $-2315.12\n",
    "##print(f\"Average Change: ${pnlAvgChange:,})\n",
    "#Greatest Increase in Profits: Feb-2012 ($1926159)\n",
    "##print(f\"Greatest Increase in Profits: {incDate} ${incAmt:,})\n",
    "#Greatest Decrease in Losses: Sep-2013 ($-2196167)\n",
    "##print(f\"Greatest decrease in Losses: {decDate} ${decAmt:,})\n"
   ]
  },
  {
   "cell_type": "code",
   "execution_count": 19,
   "metadata": {},
   "outputs": [
    {
     "output_type": "error",
     "ename": "SyntaxError",
     "evalue": "invalid syntax (<ipython-input-19-db2e066c63a2>, line 2)",
     "traceback": [
      "\u001b[1;36m  File \u001b[1;32m\"<ipython-input-19-db2e066c63a2>\"\u001b[1;36m, line \u001b[1;32m2\u001b[0m\n\u001b[1;33m    ```\u001b[0m\n\u001b[1;37m    ^\u001b[0m\n\u001b[1;31mSyntaxError\u001b[0m\u001b[1;31m:\u001b[0m invalid syntax\n"
     ]
    }
   ],
   "source": [
    "# Export analysis to text file\n",
    "```\n",
    "- outputPath = 'budget_analysis.txt'\n",
    "- with open(outputPath, 'w') as file:\n",
    "    file.write(f\"Financial Analysis\")\n",
    "    file.write(f\"----------------------------\")\n",
    "    file.write(f\"Total Months: 86\")\n",
    "    file.write(f\"Total: $38,382,578\")\n",
    "    file.write(f\"Average  Change: $-2,315.12\")\n",
    "    file.write(f\"Greatest Increase in Profits: Feb-2012 ($1,926,159)\")\n",
    "    file.write(f\"Greatest Decrease in Profits: Sep-2013 ($-2,196,167)\")"
   ]
  }
 ]
}